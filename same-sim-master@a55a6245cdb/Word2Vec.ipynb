{
 "cells": [
  {
   "cell_type": "code",
   "execution_count": 7,
   "metadata": {
    "scrolled": true
   },
   "outputs": [
    {
     "name": "stdout",
     "output_type": "stream",
     "text": [
      "Done reading data file\n",
      "read 0 reviews\n",
      "read 10000 reviews\n",
      "read 20000 reviews\n",
      "read 30000 reviews\n",
      "read 40000 reviews\n",
      "read 50000 reviews\n",
      "read 60000 reviews\n",
      "read 70000 reviews\n",
      "read 80000 reviews\n",
      "read 90000 reviews\n",
      "read 100000 reviews\n",
      "read 110000 reviews\n",
      "read 120000 reviews\n",
      "read 130000 reviews\n",
      "read 140000 reviews\n"
     ]
    },
    {
     "name": "stderr",
     "output_type": "stream",
     "text": [
      "WARNING:gensim.models.base_any2vec:consider setting layer size to a multiple of 4 for greater performance\n"
     ]
    },
    {
     "name": "stdout",
     "output_type": "stream",
     "text": [
      "read 150000 reviews\n"
     ]
    },
    {
     "name": "stderr",
     "output_type": "stream",
     "text": [
      "WARNING:gensim.models.base_any2vec:Effective 'alpha' higher than previous training cycles\n"
     ]
    },
    {
     "name": "stdout",
     "output_type": "stream",
     "text": [
      "Most similar to heart [('cardiopathy', 0.9741973876953125), ('ischæmic', 0.9557244777679443), ('cor', 0.9513370394706726), ('triatriatum', 0.9488877058029175), ('heartburn', 0.9482534527778625), ('shooting', 0.9455983638763428), ('cortriatriatum', 0.9452773332595825), ('trouble', 0.9419993758201599), ('hyperkinetic', 0.9393784999847412), ('triatrial', 0.9353556632995605), ('pyrosis', 0.9338257312774658), ('shoot', 0.9332336187362671), ('arrest', 0.9327670931816101), ('sinistrum', 0.9309983253479004), ('asystolia', 0.9263994693756104)]\n"
     ]
    }
   ],
   "source": [
    "import gzip\n",
    "import gensim \n",
    "import logging\n",
    "import os\n",
    "import numpy as np\n",
    "from gensim.models import Word2Vec\n",
    "from scipy import spatial\n",
    "from gensim.models import KeyedVectors\n",
    "\n",
    "data_file = \"pubmed19n0972.xml.gz\"\n",
    "\n",
    "def show_file_contents(input_file):\n",
    "    with gzip.open(input_file, 'rb') as f:\n",
    "        for i, line in enumerate(f):\n",
    "            print(line)\n",
    "            if (i==1000):\n",
    "                print(\"reached 100\")\n",
    "                print(\"read {0} reviews\".format(i))\n",
    "            break\n",
    "        \n",
    "    yield gensim.utils.simple_preprocess(line)\n",
    "\n",
    "def read_input(input_file):\n",
    "    \"\"\"This method reads the input file which is in gzip format\"\"\"\n",
    "    \n",
    "    logging.info(\"reading file {0}...this may take a while\".format(input_file))\n",
    "    \n",
    "    with gzip.open (input_file, 'rb') as f:\n",
    "        for i, line in enumerate (f): \n",
    "            if (i==10000000):\n",
    "                print(\"reached 1000\")\n",
    "                print(\"read {0} reviews\".format(i))\n",
    "                break\n",
    "            if (i%10000==0):\n",
    "                print (\"read {0} reviews\".format (i))\n",
    "            # do some pre-processing and return a list of words for each review text\n",
    "                \n",
    "            yield gensim.utils.simple_preprocess (line)\n",
    "\n",
    "# read the tokenized reviews into a list\n",
    "# each review item becomes a serries of words\n",
    "# so this becomes a list of lists\n",
    "print (\"Done reading data file\")\n",
    "\n",
    "def avg_feature_vector(sentence, model, num_features, index2word_set):\n",
    "    words = sentence.split()\n",
    "    feature_vec = np.zeros((num_features, ), dtype='float32')\n",
    "    n_words = 0\n",
    "    for word in words:\n",
    "        if word in index2word_set:\n",
    "            n_words += 1\n",
    "            feature_vec = np.add(feature_vec, model[word])\n",
    "    if (n_words > 0):\n",
    "        feature_vec = np.divide(feature_vec, n_words)\n",
    "    return feature_vec\n",
    "\n",
    "\n",
    "if __name__ == \"__main__\":\n",
    "\n",
    "        #abspath = os.path.dirname(os.path.abspath(__file__))\n",
    "        data_file = os.path.join(\"normTermSynonyms.data.2018.tgz\")\n",
    "\n",
    "    # read the tokenized reviews into a list\n",
    "    # each review item becomes a serries of words\n",
    "    # so this becomes a list of lists\n",
    "        documents = list(read_input(data_file))\n",
    "        #print(documents )\n",
    "        model = gensim.models.Word2Vec (documents, size=150, window=10, min_count=2, workers=10)\n",
    "        model.train(documents,total_examples=len(documents),epochs=10)\n",
    "        model.save(\"New.model\")\n",
    "        #model = KeyedVectors.load_word2vec_format(\"Google1.model\",binary = True)\n",
    "        #model = KeyedVectors.load(\"Pubmed.model\",binary = True,unicode_errors='ignore')\n",
    "        #model.save(\"Google.model\")\n",
    "        \n",
    "        w1 = \"heart\"\n",
    "        #model.wv.most_similar (positive=w1)\n",
    "        #w1 = \"Hypophyseal\"\n",
    "        print(\"Most similar to {0}\".format(w1), model.wv.most_similar(positive=w1,topn = 15))\n",
    "        \n",
    "        #s1_afv = avg_feature_vector('oncology (breast); mrna; gene expression profiling by real-time rt-pcr of 21 genes; utilizing formalin-fixed paraffin-embedded tissue; algorithm reported as recurrence score', model=model, num_features=150, index2word_set=index2word_set)\n",
    "        #s2_afv = avg_feature_vector('oncology (breast); mrna; gene expression profiling by real-time rt-pcr of 21 genes; utilizing formalin-fixed paraffin-embedded tissue; algorithm reported as recurrence score', model=model, num_features=150, index2word_set=index2word_set)\n",
    "        #sim = 1 - spatial.distance.cosine(s1_afv, s2_afv)\n",
    "        #print(sim)"
   ]
  },
  {
   "cell_type": "code",
   "execution_count": 27,
   "metadata": {},
   "outputs": [],
   "source": [
    "from gensim.models import KeyedVectors"
   ]
  },
  {
   "cell_type": "code",
   "execution_count": null,
   "metadata": {},
   "outputs": [],
   "source": []
  }
 ],
 "metadata": {
  "kernelspec": {
   "display_name": "Python 3",
   "language": "python",
   "name": "python3"
  },
  "language_info": {
   "codemirror_mode": {
    "name": "ipython",
    "version": 3
   },
   "file_extension": ".py",
   "mimetype": "text/x-python",
   "name": "python",
   "nbconvert_exporter": "python",
   "pygments_lexer": "ipython3",
   "version": "3.7.0"
  }
 },
 "nbformat": 4,
 "nbformat_minor": 2
}
